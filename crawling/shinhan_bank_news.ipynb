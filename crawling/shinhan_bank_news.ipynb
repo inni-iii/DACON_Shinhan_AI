{
 "cells": [
  {
   "cell_type": "code",
   "execution_count": 1,
   "metadata": {},
   "outputs": [],
   "source": [
    "# %pip install chromedriver-autoinstaller\n",
    "# %pip install webdriver-manager"
   ]
  },
  {
   "cell_type": "code",
   "execution_count": 1,
   "metadata": {},
   "outputs": [
    {
     "name": "stdout",
     "output_type": "stream",
     "text": [
      "112.0.5615.138\n"
     ]
    }
   ],
   "source": [
    "# 현재 내 컴퓨터의 크롬 버전 확인\n",
    "import chromedriver_autoinstaller as AutoChrome\n",
    "\n",
    "chrome_ver = AutoChrome.get_chrome_version()\n",
    "print(chrome_ver)"
   ]
  },
  {
   "attachments": {},
   "cell_type": "markdown",
   "metadata": {},
   "source": [
    "* [selenium webdriver_manager](https://github.com/SergeyPirogov/webdriver_manager)"
   ]
  },
  {
   "cell_type": "code",
   "execution_count": 14,
   "metadata": {},
   "outputs": [],
   "source": [
    "# selenium 4\n",
    "import os\n",
    "from selenium import webdriver\n",
    "from selenium.webdriver.chrome.service import Service as ChromeService\n",
    "from webdriver_manager.chrome import ChromeDriverManager\n",
    "from selenium.webdriver.common.by import By\n",
    "import pandas as pd\n",
    "\n",
    "# selenium으로 키를 조작하기 위한 import\n",
    "from selenium.webdriver.common.keys import Keys\n",
    "\n",
    "# 페이지 로딩을 기다리는데에 사용할 time 모듈 import\n",
    "import time\n",
    "\n",
    "# 동적 실행\n",
    "from selenium.webdriver import ActionChains"
   ]
  },
  {
   "cell_type": "code",
   "execution_count": null,
   "metadata": {},
   "outputs": [],
   "source": [
    "driver = webdriver.Chrome(service=ChromeService(ChromeDriverManager().install()))\n",
    "\n",
    "# 신한은행 새소식\n",
    "driver.get('https://www.shinhan.com/hpe/index.jsp#902301000000')\n",
    "time.sleep(1)\n",
    "\n",
    "# 동적 페이지라서 동작을 실행시키는 명령어 지정\n",
    "act = ActionChains(driver)\n",
    "\n",
    "shinhan_bank_news = []\n",
    "flag = True\n",
    "while True:\n",
    "    if not flag:\n",
    "        break\n",
    "\n",
    "    for i in range(10):\n",
    "        titles = driver.find_element(By.CSS_SELECTOR, f'td#grd_reg_cell_{i}_1.gridBodyDefault.gridBodyDefault_data.grd_reg_columnstyle_1_')\n",
    "        act.move_to_element(titles)\n",
    "        texts = titles.text\n",
    "        shinhan_bank_news.append(texts)\n",
    "    \n",
    "        final = driver.find_element(By.CSS_SELECTOR, f'td#grd_reg_cell_{i}_0.w2grid_input_table.gridBodyDefault.gridBodyDefault_data.grd_reg_columnstyle_0_')\n",
    "        act.move_to_element(final)\n",
    "        final_num = final.text\n",
    "\n",
    "        if str(final_num) == '1':\n",
    "            flag = False\n",
    "            break\n",
    "\n",
    "    try:\n",
    "        driver.find_element(By.CSS_SELECTOR, 'li#pl_pageNav_next_btn.w2pageList_control_next.w2pageList_col_next').click()\n",
    "    except:\n",
    "        break\n",
    "    \n",
    "    time.sleep(0.2)\n",
    "\n",
    "df = pd.DataFrame(shinhan_bank_news, columns=['title'])"
   ]
  },
  {
   "cell_type": "code",
   "execution_count": 30,
   "metadata": {},
   "outputs": [
    {
     "data": {
      "text/html": [
       "<div>\n",
       "<style scoped>\n",
       "    .dataframe tbody tr th:only-of-type {\n",
       "        vertical-align: middle;\n",
       "    }\n",
       "\n",
       "    .dataframe tbody tr th {\n",
       "        vertical-align: top;\n",
       "    }\n",
       "\n",
       "    .dataframe thead th {\n",
       "        text-align: right;\n",
       "    }\n",
       "</style>\n",
       "<table border=\"1\" class=\"dataframe\">\n",
       "  <thead>\n",
       "    <tr style=\"text-align: right;\">\n",
       "      <th></th>\n",
       "      <th>title</th>\n",
       "    </tr>\n",
       "  </thead>\n",
       "  <tbody>\n",
       "    <tr>\n",
       "      <th>0</th>\n",
       "      <td>수신상품 기본금리 변경 안내</td>\n",
       "    </tr>\n",
       "    <tr>\n",
       "      <th>1</th>\n",
       "      <td>전산 시스템 개선 작업 안내</td>\n",
       "    </tr>\n",
       "    <tr>\n",
       "      <th>2</th>\n",
       "      <td>전산 시스템 작업 안내</td>\n",
       "    </tr>\n",
       "    <tr>\n",
       "      <th>3</th>\n",
       "      <td>영업점 통합 안내</td>\n",
       "    </tr>\n",
       "    <tr>\n",
       "      <th>4</th>\n",
       "      <td>오픈뱅킹 서비스 일부 제공기관 중단 안내</td>\n",
       "    </tr>\n",
       "    <tr>\n",
       "      <th>...</th>\n",
       "      <td>...</td>\n",
       "    </tr>\n",
       "    <tr>\n",
       "      <th>1702</th>\n",
       "      <td>신한S뱅크 for ipad 서비스 시행 안내</td>\n",
       "    </tr>\n",
       "    <tr>\n",
       "      <th>1703</th>\n",
       "      <td>모바일웹사이트 웹어워드코리아 금융분야 대상 수상</td>\n",
       "    </tr>\n",
       "    <tr>\n",
       "      <th>1704</th>\n",
       "      <td>안드로이드용 신한S뱅크 서비스 오픈</td>\n",
       "    </tr>\n",
       "    <tr>\n",
       "      <th>1705</th>\n",
       "      <td>신한 모바일웹 서비스 시행안내</td>\n",
       "    </tr>\n",
       "    <tr>\n",
       "      <th>1706</th>\n",
       "      <td>스마트폰 전용 뱅킹 신한S뱅크 오픈</td>\n",
       "    </tr>\n",
       "  </tbody>\n",
       "</table>\n",
       "<p>1707 rows × 1 columns</p>\n",
       "</div>"
      ],
      "text/plain": [
       "                           title\n",
       "0                수신상품 기본금리 변경 안내\n",
       "1                전산 시스템 개선 작업 안내\n",
       "2                   전산 시스템 작업 안내\n",
       "3                      영업점 통합 안내\n",
       "4         오픈뱅킹 서비스 일부 제공기관 중단 안내\n",
       "...                          ...\n",
       "1702    신한S뱅크 for ipad 서비스 시행 안내\n",
       "1703  모바일웹사이트 웹어워드코리아 금융분야 대상 수상\n",
       "1704         안드로이드용 신한S뱅크 서비스 오픈\n",
       "1705            신한 모바일웹 서비스 시행안내\n",
       "1706         스마트폰 전용 뱅킹 신한S뱅크 오픈\n",
       "\n",
       "[1707 rows x 1 columns]"
      ]
     },
     "execution_count": 30,
     "metadata": {},
     "output_type": "execute_result"
    }
   ],
   "source": [
    "df"
   ]
  },
  {
   "cell_type": "code",
   "execution_count": 31,
   "metadata": {},
   "outputs": [],
   "source": [
    "df.to_csv('./title/shinhan_bank_news.csv', index=False)"
   ]
  }
 ],
 "metadata": {
  "kernelspec": {
   "display_name": "Python 3",
   "language": "python",
   "name": "python3"
  },
  "language_info": {
   "codemirror_mode": {
    "name": "ipython",
    "version": 3
   },
   "file_extension": ".py",
   "mimetype": "text/x-python",
   "name": "python",
   "nbconvert_exporter": "python",
   "pygments_lexer": "ipython3",
   "version": "3.8.5"
  },
  "orig_nbformat": 4
 },
 "nbformat": 4,
 "nbformat_minor": 2
}
