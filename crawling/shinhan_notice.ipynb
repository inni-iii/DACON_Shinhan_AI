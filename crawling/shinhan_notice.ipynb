{
 "cells": [
  {
   "cell_type": "code",
   "execution_count": 1,
   "metadata": {},
   "outputs": [],
   "source": [
    "# %pip install chromedriver-autoinstaller\n",
    "# %pip install webdriver-manager"
   ]
  },
  {
   "cell_type": "code",
   "execution_count": 1,
   "metadata": {},
   "outputs": [
    {
     "name": "stdout",
     "output_type": "stream",
     "text": [
      "112.0.5615.138\n"
     ]
    }
   ],
   "source": [
    "# 현재 내 컴퓨터의 크롬 버전 확인\n",
    "import chromedriver_autoinstaller as AutoChrome\n",
    "\n",
    "chrome_ver = AutoChrome.get_chrome_version()\n",
    "print(chrome_ver)"
   ]
  },
  {
   "attachments": {},
   "cell_type": "markdown",
   "metadata": {},
   "source": [
    "* [selenium webdriver_manager](https://github.com/SergeyPirogov/webdriver_manager)"
   ]
  },
  {
   "cell_type": "code",
   "execution_count": 2,
   "metadata": {},
   "outputs": [],
   "source": [
    "# selenium 4\n",
    "import os\n",
    "from selenium import webdriver\n",
    "from selenium.webdriver.chrome.service import Service as ChromeService\n",
    "from webdriver_manager.chrome import ChromeDriverManager\n",
    "from selenium.webdriver.common.by import By\n",
    "import pandas as pd\n",
    "\n",
    "# selenium으로 키를 조작하기 위한 import\n",
    "from selenium.webdriver.common.keys import Keys\n",
    "\n",
    "# 페이지 로딩을 기다리는데에 사용할 time 모듈 import\n",
    "import time"
   ]
  },
  {
   "cell_type": "code",
   "execution_count": null,
   "metadata": {},
   "outputs": [],
   "source": [
    "driver = webdriver.Chrome(service=ChromeService(ChromeDriverManager().install()))\n",
    "\n",
    "# 신한카드 공지사항\n",
    "driver.get('https://www.shinhancard.com/mob/MOBFM164N/MOBFM164R01.shc')\n",
    "\n",
    "# 자동 저장을 위한 타이틀 폴더\n",
    "title_folder = './title'\n",
    "\n",
    "if not os.path.isdir(title_folder):\n",
    "    os.mkdir(title_folder)\n",
    "\n",
    "while True:\n",
    "    try:\n",
    "        driver.find_element(By.CSS_SELECTOR, 'button.more-link1').click()\n",
    "        time.sleep(0.5)\n",
    "    except:\n",
    "        break\n",
    "\n",
    "# 신한카드 공지사항\n",
    "titles = driver.find_elements(By.CSS_SELECTOR, 'span.text1')\n",
    "shinhanplay_event = []\n",
    "for idx, title in enumerate(titles):\n",
    "    text = title.text\n",
    "    shinhanplay_event.append(text)\n",
    "\n",
    "df = pd.DataFrame(shinhanplay_event, columns=['title'])"
   ]
  },
  {
   "cell_type": "code",
   "execution_count": 10,
   "metadata": {},
   "outputs": [
    {
     "data": {
      "text/html": [
       "<div>\n",
       "<style scoped>\n",
       "    .dataframe tbody tr th:only-of-type {\n",
       "        vertical-align: middle;\n",
       "    }\n",
       "\n",
       "    .dataframe tbody tr th {\n",
       "        vertical-align: top;\n",
       "    }\n",
       "\n",
       "    .dataframe thead th {\n",
       "        text-align: right;\n",
       "    }\n",
       "</style>\n",
       "<table border=\"1\" class=\"dataframe\">\n",
       "  <thead>\n",
       "    <tr style=\"text-align: right;\">\n",
       "      <th></th>\n",
       "      <th>title</th>\n",
       "    </tr>\n",
       "  </thead>\n",
       "  <tbody>\n",
       "    <tr>\n",
       "      <th>0</th>\n",
       "      <td>교보증권 전산 시스템 작업으로 인한 서비스 일시 중단 안내</td>\n",
       "    </tr>\n",
       "    <tr>\n",
       "      <th>1</th>\n",
       "      <td>한국 소비자원 사칭 문자메시지 주의하세요!</td>\n",
       "    </tr>\n",
       "    <tr>\n",
       "      <th>2</th>\n",
       "      <td>종합소득세 신고를 위한 이용내역 조회·발송(이메일/팩스) 서비스</td>\n",
       "    </tr>\n",
       "    <tr>\n",
       "      <th>3</th>\n",
       "      <td>신한카드 일부 상품 발급 중단 안내</td>\n",
       "    </tr>\n",
       "    <tr>\n",
       "      <th>4</th>\n",
       "      <td>The BEST 카드 서비스 변경 안내</td>\n",
       "    </tr>\n",
       "    <tr>\n",
       "      <th>...</th>\n",
       "      <td>...</td>\n",
       "    </tr>\n",
       "    <tr>\n",
       "      <th>1693</th>\n",
       "      <td>THE BEST카드 특급호텔 서비스 신규 안내</td>\n",
       "    </tr>\n",
       "    <tr>\n",
       "      <th>1694</th>\n",
       "      <td>아침愛카드 보험 서비스 종료 안내</td>\n",
       "    </tr>\n",
       "    <tr>\n",
       "      <th>1695</th>\n",
       "      <td>서울 프라자 호텔 발렛파킹 서비스 일시중단 안내</td>\n",
       "    </tr>\n",
       "    <tr>\n",
       "      <th>1696</th>\n",
       "      <td>THE BEST카드 특급호텔 서비스 신규 안내</td>\n",
       "    </tr>\n",
       "    <tr>\n",
       "      <th>1697</th>\n",
       "      <td></td>\n",
       "    </tr>\n",
       "  </tbody>\n",
       "</table>\n",
       "<p>1698 rows × 1 columns</p>\n",
       "</div>"
      ],
      "text/plain": [
       "                                    title\n",
       "0        교보증권 전산 시스템 작업으로 인한 서비스 일시 중단 안내\n",
       "1                 한국 소비자원 사칭 문자메시지 주의하세요!\n",
       "2     종합소득세 신고를 위한 이용내역 조회·발송(이메일/팩스) 서비스\n",
       "3                     신한카드 일부 상품 발급 중단 안내\n",
       "4                   The BEST 카드 서비스 변경 안내\n",
       "...                                   ...\n",
       "1693            THE BEST카드 특급호텔 서비스 신규 안내\n",
       "1694                   아침愛카드 보험 서비스 종료 안내\n",
       "1695           서울 프라자 호텔 발렛파킹 서비스 일시중단 안내\n",
       "1696            THE BEST카드 특급호텔 서비스 신규 안내\n",
       "1697                                     \n",
       "\n",
       "[1698 rows x 1 columns]"
      ]
     },
     "execution_count": 10,
     "metadata": {},
     "output_type": "execute_result"
    }
   ],
   "source": [
    "df"
   ]
  },
  {
   "cell_type": "code",
   "execution_count": 11,
   "metadata": {},
   "outputs": [],
   "source": [
    "df.to_csv('./title/shinhan_notice.csv', index=False)"
   ]
  },
  {
   "cell_type": "code",
   "execution_count": null,
   "metadata": {},
   "outputs": [],
   "source": []
  }
 ],
 "metadata": {
  "kernelspec": {
   "display_name": "Python 3",
   "language": "python",
   "name": "python3"
  },
  "language_info": {
   "codemirror_mode": {
    "name": "ipython",
    "version": 3
   },
   "file_extension": ".py",
   "mimetype": "text/x-python",
   "name": "python",
   "nbconvert_exporter": "python",
   "pygments_lexer": "ipython3",
   "version": "3.8.5"
  },
  "orig_nbformat": 4
 },
 "nbformat": 4,
 "nbformat_minor": 2
}
