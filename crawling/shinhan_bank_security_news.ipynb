{
 "cells": [
  {
   "cell_type": "code",
   "execution_count": 1,
   "metadata": {},
   "outputs": [],
   "source": [
    "# %pip install chromedriver-autoinstaller\n",
    "# %pip install webdriver-manager"
   ]
  },
  {
   "cell_type": "code",
   "execution_count": 1,
   "metadata": {},
   "outputs": [
    {
     "name": "stdout",
     "output_type": "stream",
     "text": [
      "112.0.5615.138\n"
     ]
    }
   ],
   "source": [
    "# 현재 내 컴퓨터의 크롬 버전 확인\n",
    "import chromedriver_autoinstaller as AutoChrome\n",
    "\n",
    "chrome_ver = AutoChrome.get_chrome_version()\n",
    "print(chrome_ver)"
   ]
  },
  {
   "attachments": {},
   "cell_type": "markdown",
   "metadata": {},
   "source": [
    "* [selenium webdriver_manager](https://github.com/SergeyPirogov/webdriver_manager)"
   ]
  },
  {
   "cell_type": "code",
   "execution_count": 2,
   "metadata": {},
   "outputs": [],
   "source": [
    "# selenium 4\n",
    "import os\n",
    "from selenium import webdriver\n",
    "from selenium.webdriver.chrome.service import Service as ChromeService\n",
    "from webdriver_manager.chrome import ChromeDriverManager\n",
    "from selenium.webdriver.common.by import By\n",
    "import pandas as pd\n",
    "\n",
    "# selenium으로 키를 조작하기 위한 import\n",
    "from selenium.webdriver.common.keys import Keys\n",
    "\n",
    "# 페이지 로딩을 기다리는데에 사용할 time 모듈 import\n",
    "import time\n",
    "\n",
    "# 동적 실행\n",
    "from selenium.webdriver import ActionChains"
   ]
  },
  {
   "cell_type": "code",
   "execution_count": null,
   "metadata": {},
   "outputs": [],
   "source": [
    "driver = webdriver.Chrome(service=ChromeService(ChromeDriverManager().install()))\n",
    "\n",
    "# 신한은행 보안뉴스\n",
    "driver.get('https://www.shinhan.com/hpe/index.jsp#902302000000')\n",
    "time.sleep(1)\n",
    "\n",
    "# 보안뉴스 페이지 누르기\n",
    "driver.find_element(By.CSS_SELECTOR, 'a#wq_uuid_1243.w2group').click()\n",
    "time.sleep(3)\n",
    "\n",
    "# 동적 페이지라서 동작을 실행시키는 명령어 지정\n",
    "act = ActionChains(driver)\n",
    "\n",
    "shinhan_bank_security_news = []\n",
    "flag = True\n",
    "while True:\n",
    "    if not flag:\n",
    "        break\n",
    "\n",
    "    for i in range(10):\n",
    "        titles = driver.find_element(By.CSS_SELECTOR, f'td#grd_게시판_cell_{i}_2.gridBodyDefault.gridBodyDefault_data.grd_게시판_columnstyle_2_')\n",
    "        act.move_to_element(titles)\n",
    "        texts = titles.text\n",
    "        shinhan_bank_security_news.append(texts)\n",
    "    \n",
    "        final = driver.find_element(By.CSS_SELECTOR, f'td#grd_게시판_cell_{i}_0.w2grid_input_table.gridBodyDefault.gridBodyDefault_data.grd_게시판_columnstyle_0_')\n",
    "        act.move_to_element(final)\n",
    "        final_num = final.text\n",
    "\n",
    "        if str(final_num) == '1':\n",
    "            flag = False\n",
    "            break\n",
    "\n",
    "    try:\n",
    "        driver.find_element(By.CSS_SELECTOR, 'li#pl_pageNav_next_btn.w2pageList_control_next.w2pageList_col_next').click()\n",
    "    except:\n",
    "        break\n",
    "    \n",
    "    time.sleep(0.2)\n",
    "\n",
    "df = pd.DataFrame(shinhan_bank_security_news, columns=['title'])"
   ]
  },
  {
   "cell_type": "code",
   "execution_count": 9,
   "metadata": {},
   "outputs": [
    {
     "data": {
      "text/html": [
       "<div>\n",
       "<style scoped>\n",
       "    .dataframe tbody tr th:only-of-type {\n",
       "        vertical-align: middle;\n",
       "    }\n",
       "\n",
       "    .dataframe tbody tr th {\n",
       "        vertical-align: top;\n",
       "    }\n",
       "\n",
       "    .dataframe thead th {\n",
       "        text-align: right;\n",
       "    }\n",
       "</style>\n",
       "<table border=\"1\" class=\"dataframe\">\n",
       "  <thead>\n",
       "    <tr style=\"text-align: right;\">\n",
       "      <th></th>\n",
       "      <th>title</th>\n",
       "    </tr>\n",
       "  </thead>\n",
       "  <tbody>\n",
       "    <tr>\n",
       "      <th>0</th>\n",
       "      <td>검찰사칭 보이스 피싱 주의 소비자경보</td>\n",
       "    </tr>\n",
       "    <tr>\n",
       "      <th>1</th>\n",
       "      <td>개인정보 노출사실 전파 업무 개정 공지</td>\n",
       "    </tr>\n",
       "    <tr>\n",
       "      <th>2</th>\n",
       "      <td>추석 명절, 선물 배송 등을 사칭한 스미싱 주의! - 출처가 불분명한 문자내 URL...</td>\n",
       "    </tr>\n",
       "    <tr>\n",
       "      <th>3</th>\n",
       "      <td>가상자산 거래관련 유의사항</td>\n",
       "    </tr>\n",
       "    <tr>\n",
       "      <th>4</th>\n",
       "      <td>금융감독원을 사칭한 개인정보 탈취 보이스피싱 사기문자 소비자경보 발령</td>\n",
       "    </tr>\n",
       "    <tr>\n",
       "      <th>...</th>\n",
       "      <td>...</td>\n",
       "    </tr>\n",
       "    <tr>\n",
       "      <th>115</th>\n",
       "      <td>검찰청직원사칭 개인정보수집 피해예방 안내</td>\n",
       "    </tr>\n",
       "    <tr>\n",
       "      <th>116</th>\n",
       "      <td>대고객 PC보안솔루션 통합적용안내</td>\n",
       "    </tr>\n",
       "    <tr>\n",
       "      <th>117</th>\n",
       "      <td>피싱 사기사이트 주의안내(신종 인터넷 사기수법에 주의 바랍니다!</td>\n",
       "    </tr>\n",
       "    <tr>\n",
       "      <th>118</th>\n",
       "      <td>인터넷뱅킹 보안프로그램 업그레이드 안내</td>\n",
       "    </tr>\n",
       "    <tr>\n",
       "      <th>119</th>\n",
       "      <td>비금융회사를 통한 전자금융서비스 이용 주의 안내</td>\n",
       "    </tr>\n",
       "  </tbody>\n",
       "</table>\n",
       "<p>120 rows × 1 columns</p>\n",
       "</div>"
      ],
      "text/plain": [
       "                                                 title\n",
       "0                                 검찰사칭 보이스 피싱 주의 소비자경보\n",
       "1                                개인정보 노출사실 전파 업무 개정 공지\n",
       "2    추석 명절, 선물 배송 등을 사칭한 스미싱 주의! - 출처가 불분명한 문자내 URL...\n",
       "3                                       가상자산 거래관련 유의사항\n",
       "4               금융감독원을 사칭한 개인정보 탈취 보이스피싱 사기문자 소비자경보 발령\n",
       "..                                                 ...\n",
       "115                             검찰청직원사칭 개인정보수집 피해예방 안내\n",
       "116                                 대고객 PC보안솔루션 통합적용안내\n",
       "117                피싱 사기사이트 주의안내(신종 인터넷 사기수법에 주의 바랍니다!\n",
       "118                              인터넷뱅킹 보안프로그램 업그레이드 안내\n",
       "119                         비금융회사를 통한 전자금융서비스 이용 주의 안내\n",
       "\n",
       "[120 rows x 1 columns]"
      ]
     },
     "execution_count": 9,
     "metadata": {},
     "output_type": "execute_result"
    }
   ],
   "source": [
    "df"
   ]
  },
  {
   "cell_type": "code",
   "execution_count": 10,
   "metadata": {},
   "outputs": [],
   "source": [
    "df.to_csv('./title/shinhan_bank_security_news.csv', index=False)"
   ]
  }
 ],
 "metadata": {
  "kernelspec": {
   "display_name": "Python 3",
   "language": "python",
   "name": "python3"
  },
  "language_info": {
   "codemirror_mode": {
    "name": "ipython",
    "version": 3
   },
   "file_extension": ".py",
   "mimetype": "text/x-python",
   "name": "python",
   "nbconvert_exporter": "python",
   "pygments_lexer": "ipython3",
   "version": "3.8.5"
  },
  "orig_nbformat": 4
 },
 "nbformat": 4,
 "nbformat_minor": 2
}
