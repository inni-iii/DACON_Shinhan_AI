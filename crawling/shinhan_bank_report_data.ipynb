{
 "cells": [
  {
   "cell_type": "code",
   "execution_count": 1,
   "metadata": {},
   "outputs": [],
   "source": [
    "# %pip install chromedriver-autoinstaller\n",
    "# %pip install webdriver-manager"
   ]
  },
  {
   "cell_type": "code",
   "execution_count": 1,
   "metadata": {},
   "outputs": [
    {
     "name": "stdout",
     "output_type": "stream",
     "text": [
      "112.0.5615.138\n"
     ]
    }
   ],
   "source": [
    "# 현재 내 컴퓨터의 크롬 버전 확인\n",
    "import chromedriver_autoinstaller as AutoChrome\n",
    "\n",
    "chrome_ver = AutoChrome.get_chrome_version()\n",
    "print(chrome_ver)"
   ]
  },
  {
   "attachments": {},
   "cell_type": "markdown",
   "metadata": {},
   "source": [
    "* [selenium webdriver_manager](https://github.com/SergeyPirogov/webdriver_manager)"
   ]
  },
  {
   "cell_type": "code",
   "execution_count": 1,
   "metadata": {},
   "outputs": [],
   "source": [
    "# selenium 4\n",
    "import os\n",
    "from selenium import webdriver\n",
    "from selenium.webdriver.chrome.service import Service as ChromeService\n",
    "from webdriver_manager.chrome import ChromeDriverManager\n",
    "from selenium.webdriver.common.by import By\n",
    "import pandas as pd\n",
    "\n",
    "# selenium으로 키를 조작하기 위한 import\n",
    "from selenium.webdriver.common.keys import Keys\n",
    "\n",
    "# 페이지 로딩을 기다리는데에 사용할 time 모듈 import\n",
    "import time\n",
    "\n",
    "# 동적 실행\n",
    "from selenium.webdriver import ActionChains"
   ]
  },
  {
   "cell_type": "code",
   "execution_count": 16,
   "metadata": {},
   "outputs": [],
   "source": [
    "driver = webdriver.Chrome(service=ChromeService(ChromeDriverManager().install()))\n",
    "\n",
    "# 신한은행 보안뉴스에서 들어가기\n",
    "driver.get('https://www.shinhan.com/hpe/index.jsp#902302000000')\n",
    "time.sleep(3)\n",
    "\n",
    "# 보도자료 페이지 누르기\n",
    "driver.find_element(By.CSS_SELECTOR, 'a#wq_uuid_1246.w2group').click()\n",
    "time.sleep(3)\n",
    "\n",
    "# 동적 페이지라서 동작을 실행시키는 명령어 지정\n",
    "act = ActionChains(driver)\n",
    "\n",
    "shinhan_bank_report_data = []\n",
    "flag = True\n",
    "while True:\n",
    "    if not flag:\n",
    "        break\n",
    "\n",
    "    for i in range(10):\n",
    "        titles = driver.find_element(By.CSS_SELECTOR, f'td#grd_게시판_cell_{i}_2.gridBodyDefault.gridBodyDefault_data.grd_게시판_columnstyle_2_')\n",
    "        act.move_to_element(titles)\n",
    "        texts = titles.text\n",
    "        shinhan_bank_report_data.append(texts)\n",
    "    \n",
    "        final = driver.find_element(By.CSS_SELECTOR, f'td#grd_게시판_cell_{i}_0.w2grid_input_table.gridBodyDefault.gridBodyDefault_data.grd_게시판_columnstyle_0_')\n",
    "        act.move_to_element(final)\n",
    "        final_num = final.text\n",
    "\n",
    "        if str(final_num) == '1':\n",
    "            flag = False\n",
    "            break\n",
    "\n",
    "    try:\n",
    "        driver.find_element(By.CSS_SELECTOR, 'li#pl_pageNav_next_btn.w2pageList_control_next.w2pageList_col_next').click()\n",
    "    except:\n",
    "        break\n",
    "    \n",
    "    time.sleep(0.2)\n",
    "\n",
    "df = pd.DataFrame(shinhan_bank_report_data, columns=['title'])"
   ]
  },
  {
   "cell_type": "code",
   "execution_count": 18,
   "metadata": {},
   "outputs": [
    {
     "data": {
      "text/html": [
       "<div>\n",
       "<style scoped>\n",
       "    .dataframe tbody tr th:only-of-type {\n",
       "        vertical-align: middle;\n",
       "    }\n",
       "\n",
       "    .dataframe tbody tr th {\n",
       "        vertical-align: top;\n",
       "    }\n",
       "\n",
       "    .dataframe thead th {\n",
       "        text-align: right;\n",
       "    }\n",
       "</style>\n",
       "<table border=\"1\" class=\"dataframe\">\n",
       "  <thead>\n",
       "    <tr style=\"text-align: right;\">\n",
       "      <th></th>\n",
       "      <th>title</th>\n",
       "    </tr>\n",
       "  </thead>\n",
       "  <tbody>\n",
       "    <tr>\n",
       "      <th>0</th>\n",
       "      <td>‘쏠(SOL)캐릭터 골드바’ 출시 및 이벤트 시행</td>\n",
       "    </tr>\n",
       "    <tr>\n",
       "      <th>1</th>\n",
       "      <td>볼런투어(Volun-Tour) 실시</td>\n",
       "    </tr>\n",
       "    <tr>\n",
       "      <th>2</th>\n",
       "      <td>KGC인삼공사와 가정의 달 이벤트 진행</td>\n",
       "    </tr>\n",
       "    <tr>\n",
       "      <th>3</th>\n",
       "      <td>전세사기 피해자 무료 법률 및 금융 지원 실시</td>\n",
       "    </tr>\n",
       "    <tr>\n",
       "      <th>4</th>\n",
       "      <td>유원대학교와 ‘헤이영 캠퍼스’ 업무협약 체결</td>\n",
       "    </tr>\n",
       "    <tr>\n",
       "      <th>...</th>\n",
       "      <td>...</td>\n",
       "    </tr>\n",
       "    <tr>\n",
       "      <th>3002</th>\n",
       "      <td>신한銀, ‘하이패스카드 기업뱅킹충전서비스’ 실시</td>\n",
       "    </tr>\n",
       "    <tr>\n",
       "      <th>3003</th>\n",
       "      <td>신한銀, “신년맞이 우수고객 초청행사” 실시</td>\n",
       "    </tr>\n",
       "    <tr>\n",
       "      <th>3004</th>\n",
       "      <td>신한銀, 「예금 금리」인하</td>\n",
       "    </tr>\n",
       "    <tr>\n",
       "      <th>3005</th>\n",
       "      <td>신한銀, ‘2009년 새해맞이 감사 인사드리기 행사’ 실시</td>\n",
       "    </tr>\n",
       "    <tr>\n",
       "      <th>3006</th>\n",
       "      <td>신한銀, 투자고객 서비스 개선방안 본격 추진</td>\n",
       "    </tr>\n",
       "  </tbody>\n",
       "</table>\n",
       "<p>3007 rows × 1 columns</p>\n",
       "</div>"
      ],
      "text/plain": [
       "                                 title\n",
       "0          ‘쏠(SOL)캐릭터 골드바’ 출시 및 이벤트 시행\n",
       "1                  볼런투어(Volun-Tour) 실시\n",
       "2                KGC인삼공사와 가정의 달 이벤트 진행\n",
       "3            전세사기 피해자 무료 법률 및 금융 지원 실시\n",
       "4             유원대학교와 ‘헤이영 캠퍼스’ 업무협약 체결\n",
       "...                                ...\n",
       "3002        신한銀, ‘하이패스카드 기업뱅킹충전서비스’ 실시\n",
       "3003          신한銀, “신년맞이 우수고객 초청행사” 실시\n",
       "3004                    신한銀, 「예금 금리」인하\n",
       "3005  신한銀, ‘2009년 새해맞이 감사 인사드리기 행사’ 실시\n",
       "3006          신한銀, 투자고객 서비스 개선방안 본격 추진\n",
       "\n",
       "[3007 rows x 1 columns]"
      ]
     },
     "execution_count": 18,
     "metadata": {},
     "output_type": "execute_result"
    }
   ],
   "source": [
    "df"
   ]
  },
  {
   "cell_type": "code",
   "execution_count": 19,
   "metadata": {},
   "outputs": [],
   "source": [
    "df.to_csv('./title/shinhan_bank_report_data.csv', index=False)"
   ]
  }
 ],
 "metadata": {
  "kernelspec": {
   "display_name": "Python 3",
   "language": "python",
   "name": "python3"
  },
  "language_info": {
   "codemirror_mode": {
    "name": "ipython",
    "version": 3
   },
   "file_extension": ".py",
   "mimetype": "text/x-python",
   "name": "python",
   "nbconvert_exporter": "python",
   "pygments_lexer": "ipython3",
   "version": "3.8.5"
  },
  "orig_nbformat": 4
 },
 "nbformat": 4,
 "nbformat_minor": 2
}
